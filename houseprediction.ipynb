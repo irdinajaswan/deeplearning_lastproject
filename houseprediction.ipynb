{
  "nbformat": 4,
  "nbformat_minor": 0,
  "metadata": {
    "colab": {
      "provenance": [],
      "authorship_tag": "ABX9TyN5uUC5DnV2NNVWXbgQkJpu",
      "include_colab_link": true
    },
    "kernelspec": {
      "name": "python3",
      "display_name": "Python 3"
    },
    "language_info": {
      "name": "python"
    }
  },
  "cells": [
    {
      "cell_type": "markdown",
      "metadata": {
        "id": "view-in-github",
        "colab_type": "text"
      },
      "source": [
        "<a href=\"https://colab.research.google.com/github/irdinajaswan/deeplearning_lastproject/blob/main/houseprediction.ipynb\" target=\"_parent\"><img src=\"https://colab.research.google.com/assets/colab-badge.svg\" alt=\"Open In Colab\"/></a>"
      ]
    },
    {
      "cell_type": "code",
      "execution_count": 4,
      "metadata": {
        "id": "6iOPQRvotnpm"
      },
      "outputs": [],
      "source": [
        "import pandas as pd\n",
        "from sklearn.neural_network import MLPClassifier\n",
        "from sklearn.metrics import accuracy_score\n",
        "import numpy as np\n",
        "\n",
        "fed_files = [\"MORTGAGE30US.csv\", \"RRVRUSQ156N.csv\", \"CPIAUCSL.csv\"]\n",
        "\n",
        "dfs = [pd.read_csv(f, parse_dates=True, index_col=0) for f in fed_files]"
      ]
    },
    {
      "cell_type": "markdown",
      "source": [
        "Loading the files"
      ],
      "metadata": {
        "id": "2WUnf4i6rFWW"
      }
    },
    {
      "cell_type": "code",
      "source": [
        "fed_data = pd.concat(dfs, axis=1)"
      ],
      "metadata": {
        "id": "IejCxeUgvLsX"
      },
      "execution_count": 5,
      "outputs": []
    },
    {
      "cell_type": "code",
      "source": [
        "fed_data = fed_data.ffill().dropna()"
      ],
      "metadata": {
        "id": "w8-YoTjNvLx_"
      },
      "execution_count": 7,
      "outputs": []
    },
    {
      "cell_type": "markdown",
      "source": [
        "Reading Zillow data"
      ],
      "metadata": {
        "id": "y6WFK0j5tR_v"
      }
    },
    {
      "cell_type": "code",
      "source": [
        "zillow_files = [\"Metro_median_sale_price_uc_sfrcondo_week.csv\", \"Metro_zhvi_uc_sfrcondo_tier_0.33_0.67_month.csv\"]\n",
        "\n",
        "dfs = [pd.read_csv(f) for f in zillow_files]"
      ],
      "metadata": {
        "id": "YssunteRvL3c"
      },
      "execution_count": 8,
      "outputs": []
    },
    {
      "cell_type": "code",
      "source": [
        "dfs = [pd.DataFrame(df.iloc[0,5:]) for df in dfs]\n",
        "for df in dfs:\n",
        "    df.index = pd.to_datetime(df.index)\n",
        "    df[\"month\"] = df.index.to_period(\"M\")"
      ],
      "metadata": {
        "id": "FGHAJB7d3Ef8"
      },
      "execution_count": 9,
      "outputs": []
    },
    {
      "cell_type": "code",
      "source": [
        "price_data = dfs[0].merge(dfs[1], on=\"month\")"
      ],
      "metadata": {
        "id": "LVEbVJq33Elj"
      },
      "execution_count": 10,
      "outputs": []
    },
    {
      "cell_type": "code",
      "source": [
        "price_data.index = dfs[0].index"
      ],
      "metadata": {
        "id": "ZWeGsHM63EoI"
      },
      "execution_count": 11,
      "outputs": []
    },
    {
      "cell_type": "code",
      "source": [
        "del price_data[\"month\"]\n",
        "price_data.columns = [\"price\", \"value\"]"
      ],
      "metadata": {
        "id": "kzW08__03Et_"
      },
      "execution_count": 12,
      "outputs": []
    },
    {
      "cell_type": "code",
      "source": [
        "from datetime import timedelta\n",
        "\n",
        "fed_data.index = fed_data.index + timedelta(days=2)"
      ],
      "metadata": {
        "id": "bQYYmo7C3cUG"
      },
      "execution_count": 13,
      "outputs": []
    },
    {
      "cell_type": "code",
      "source": [
        "fed_data.tail(20)"
      ],
      "metadata": {
        "colab": {
          "base_uri": "https://localhost:8080/",
          "height": 700
        },
        "id": "VLmeUHqk3cfo",
        "outputId": "e35ce5b5-1919-4d1f-da57-06bb038d993a"
      },
      "execution_count": 14,
      "outputs": [
        {
          "output_type": "execute_result",
          "data": {
            "text/plain": [
              "            MORTGAGE30US  RRVRUSQ156N  CPIAUCSL\n",
              "DATE                                           \n",
              "2023-08-05          6.90          6.6   306.269\n",
              "2023-08-12          6.96          6.6   306.269\n",
              "2023-08-19          7.09          6.6   306.269\n",
              "2023-08-26          7.23          6.6   306.269\n",
              "2023-09-02          7.18          6.6   306.269\n",
              "2023-09-03          7.18          6.6   307.481\n",
              "2023-09-09          7.12          6.6   307.481\n",
              "2023-09-16          7.18          6.6   307.481\n",
              "2023-09-23          7.19          6.6   307.481\n",
              "2023-09-30          7.31          6.6   307.481\n",
              "2023-10-03          7.31          6.6   307.619\n",
              "2023-10-07          7.49          6.6   307.619\n",
              "2023-10-14          7.57          6.6   307.619\n",
              "2023-10-21          7.63          6.6   307.619\n",
              "2023-10-28          7.79          6.6   307.619\n",
              "2023-11-04          7.76          6.6   307.619\n",
              "2023-11-11          7.50          6.6   307.619\n",
              "2023-11-18          7.44          6.6   307.619\n",
              "2023-11-24          7.29          6.6   307.619\n",
              "2023-12-02          7.22          6.6   307.619"
            ],
            "text/html": [
              "\n",
              "  <div id=\"df-6ee2648a-1844-4635-8c1e-d3731e855d20\" class=\"colab-df-container\">\n",
              "    <div>\n",
              "<style scoped>\n",
              "    .dataframe tbody tr th:only-of-type {\n",
              "        vertical-align: middle;\n",
              "    }\n",
              "\n",
              "    .dataframe tbody tr th {\n",
              "        vertical-align: top;\n",
              "    }\n",
              "\n",
              "    .dataframe thead th {\n",
              "        text-align: right;\n",
              "    }\n",
              "</style>\n",
              "<table border=\"1\" class=\"dataframe\">\n",
              "  <thead>\n",
              "    <tr style=\"text-align: right;\">\n",
              "      <th></th>\n",
              "      <th>MORTGAGE30US</th>\n",
              "      <th>RRVRUSQ156N</th>\n",
              "      <th>CPIAUCSL</th>\n",
              "    </tr>\n",
              "    <tr>\n",
              "      <th>DATE</th>\n",
              "      <th></th>\n",
              "      <th></th>\n",
              "      <th></th>\n",
              "    </tr>\n",
              "  </thead>\n",
              "  <tbody>\n",
              "    <tr>\n",
              "      <th>2023-08-05</th>\n",
              "      <td>6.90</td>\n",
              "      <td>6.6</td>\n",
              "      <td>306.269</td>\n",
              "    </tr>\n",
              "    <tr>\n",
              "      <th>2023-08-12</th>\n",
              "      <td>6.96</td>\n",
              "      <td>6.6</td>\n",
              "      <td>306.269</td>\n",
              "    </tr>\n",
              "    <tr>\n",
              "      <th>2023-08-19</th>\n",
              "      <td>7.09</td>\n",
              "      <td>6.6</td>\n",
              "      <td>306.269</td>\n",
              "    </tr>\n",
              "    <tr>\n",
              "      <th>2023-08-26</th>\n",
              "      <td>7.23</td>\n",
              "      <td>6.6</td>\n",
              "      <td>306.269</td>\n",
              "    </tr>\n",
              "    <tr>\n",
              "      <th>2023-09-02</th>\n",
              "      <td>7.18</td>\n",
              "      <td>6.6</td>\n",
              "      <td>306.269</td>\n",
              "    </tr>\n",
              "    <tr>\n",
              "      <th>2023-09-03</th>\n",
              "      <td>7.18</td>\n",
              "      <td>6.6</td>\n",
              "      <td>307.481</td>\n",
              "    </tr>\n",
              "    <tr>\n",
              "      <th>2023-09-09</th>\n",
              "      <td>7.12</td>\n",
              "      <td>6.6</td>\n",
              "      <td>307.481</td>\n",
              "    </tr>\n",
              "    <tr>\n",
              "      <th>2023-09-16</th>\n",
              "      <td>7.18</td>\n",
              "      <td>6.6</td>\n",
              "      <td>307.481</td>\n",
              "    </tr>\n",
              "    <tr>\n",
              "      <th>2023-09-23</th>\n",
              "      <td>7.19</td>\n",
              "      <td>6.6</td>\n",
              "      <td>307.481</td>\n",
              "    </tr>\n",
              "    <tr>\n",
              "      <th>2023-09-30</th>\n",
              "      <td>7.31</td>\n",
              "      <td>6.6</td>\n",
              "      <td>307.481</td>\n",
              "    </tr>\n",
              "    <tr>\n",
              "      <th>2023-10-03</th>\n",
              "      <td>7.31</td>\n",
              "      <td>6.6</td>\n",
              "      <td>307.619</td>\n",
              "    </tr>\n",
              "    <tr>\n",
              "      <th>2023-10-07</th>\n",
              "      <td>7.49</td>\n",
              "      <td>6.6</td>\n",
              "      <td>307.619</td>\n",
              "    </tr>\n",
              "    <tr>\n",
              "      <th>2023-10-14</th>\n",
              "      <td>7.57</td>\n",
              "      <td>6.6</td>\n",
              "      <td>307.619</td>\n",
              "    </tr>\n",
              "    <tr>\n",
              "      <th>2023-10-21</th>\n",
              "      <td>7.63</td>\n",
              "      <td>6.6</td>\n",
              "      <td>307.619</td>\n",
              "    </tr>\n",
              "    <tr>\n",
              "      <th>2023-10-28</th>\n",
              "      <td>7.79</td>\n",
              "      <td>6.6</td>\n",
              "      <td>307.619</td>\n",
              "    </tr>\n",
              "    <tr>\n",
              "      <th>2023-11-04</th>\n",
              "      <td>7.76</td>\n",
              "      <td>6.6</td>\n",
              "      <td>307.619</td>\n",
              "    </tr>\n",
              "    <tr>\n",
              "      <th>2023-11-11</th>\n",
              "      <td>7.50</td>\n",
              "      <td>6.6</td>\n",
              "      <td>307.619</td>\n",
              "    </tr>\n",
              "    <tr>\n",
              "      <th>2023-11-18</th>\n",
              "      <td>7.44</td>\n",
              "      <td>6.6</td>\n",
              "      <td>307.619</td>\n",
              "    </tr>\n",
              "    <tr>\n",
              "      <th>2023-11-24</th>\n",
              "      <td>7.29</td>\n",
              "      <td>6.6</td>\n",
              "      <td>307.619</td>\n",
              "    </tr>\n",
              "    <tr>\n",
              "      <th>2023-12-02</th>\n",
              "      <td>7.22</td>\n",
              "      <td>6.6</td>\n",
              "      <td>307.619</td>\n",
              "    </tr>\n",
              "  </tbody>\n",
              "</table>\n",
              "</div>\n",
              "    <div class=\"colab-df-buttons\">\n",
              "\n",
              "  <div class=\"colab-df-container\">\n",
              "    <button class=\"colab-df-convert\" onclick=\"convertToInteractive('df-6ee2648a-1844-4635-8c1e-d3731e855d20')\"\n",
              "            title=\"Convert this dataframe to an interactive table.\"\n",
              "            style=\"display:none;\">\n",
              "\n",
              "  <svg xmlns=\"http://www.w3.org/2000/svg\" height=\"24px\" viewBox=\"0 -960 960 960\">\n",
              "    <path d=\"M120-120v-720h720v720H120Zm60-500h600v-160H180v160Zm220 220h160v-160H400v160Zm0 220h160v-160H400v160ZM180-400h160v-160H180v160Zm440 0h160v-160H620v160ZM180-180h160v-160H180v160Zm440 0h160v-160H620v160Z\"/>\n",
              "  </svg>\n",
              "    </button>\n",
              "\n",
              "  <style>\n",
              "    .colab-df-container {\n",
              "      display:flex;\n",
              "      gap: 12px;\n",
              "    }\n",
              "\n",
              "    .colab-df-convert {\n",
              "      background-color: #E8F0FE;\n",
              "      border: none;\n",
              "      border-radius: 50%;\n",
              "      cursor: pointer;\n",
              "      display: none;\n",
              "      fill: #1967D2;\n",
              "      height: 32px;\n",
              "      padding: 0 0 0 0;\n",
              "      width: 32px;\n",
              "    }\n",
              "\n",
              "    .colab-df-convert:hover {\n",
              "      background-color: #E2EBFA;\n",
              "      box-shadow: 0px 1px 2px rgba(60, 64, 67, 0.3), 0px 1px 3px 1px rgba(60, 64, 67, 0.15);\n",
              "      fill: #174EA6;\n",
              "    }\n",
              "\n",
              "    .colab-df-buttons div {\n",
              "      margin-bottom: 4px;\n",
              "    }\n",
              "\n",
              "    [theme=dark] .colab-df-convert {\n",
              "      background-color: #3B4455;\n",
              "      fill: #D2E3FC;\n",
              "    }\n",
              "\n",
              "    [theme=dark] .colab-df-convert:hover {\n",
              "      background-color: #434B5C;\n",
              "      box-shadow: 0px 1px 3px 1px rgba(0, 0, 0, 0.15);\n",
              "      filter: drop-shadow(0px 1px 2px rgba(0, 0, 0, 0.3));\n",
              "      fill: #FFFFFF;\n",
              "    }\n",
              "  </style>\n",
              "\n",
              "    <script>\n",
              "      const buttonEl =\n",
              "        document.querySelector('#df-6ee2648a-1844-4635-8c1e-d3731e855d20 button.colab-df-convert');\n",
              "      buttonEl.style.display =\n",
              "        google.colab.kernel.accessAllowed ? 'block' : 'none';\n",
              "\n",
              "      async function convertToInteractive(key) {\n",
              "        const element = document.querySelector('#df-6ee2648a-1844-4635-8c1e-d3731e855d20');\n",
              "        const dataTable =\n",
              "          await google.colab.kernel.invokeFunction('convertToInteractive',\n",
              "                                                    [key], {});\n",
              "        if (!dataTable) return;\n",
              "\n",
              "        const docLinkHtml = 'Like what you see? Visit the ' +\n",
              "          '<a target=\"_blank\" href=https://colab.research.google.com/notebooks/data_table.ipynb>data table notebook</a>'\n",
              "          + ' to learn more about interactive tables.';\n",
              "        element.innerHTML = '';\n",
              "        dataTable['output_type'] = 'display_data';\n",
              "        await google.colab.output.renderOutput(dataTable, element);\n",
              "        const docLink = document.createElement('div');\n",
              "        docLink.innerHTML = docLinkHtml;\n",
              "        element.appendChild(docLink);\n",
              "      }\n",
              "    </script>\n",
              "  </div>\n",
              "\n",
              "\n",
              "<div id=\"df-1567f5fb-1edd-44dd-9b1e-43becc33a8bd\">\n",
              "  <button class=\"colab-df-quickchart\" onclick=\"quickchart('df-1567f5fb-1edd-44dd-9b1e-43becc33a8bd')\"\n",
              "            title=\"Suggest charts\"\n",
              "            style=\"display:none;\">\n",
              "\n",
              "<svg xmlns=\"http://www.w3.org/2000/svg\" height=\"24px\"viewBox=\"0 0 24 24\"\n",
              "     width=\"24px\">\n",
              "    <g>\n",
              "        <path d=\"M19 3H5c-1.1 0-2 .9-2 2v14c0 1.1.9 2 2 2h14c1.1 0 2-.9 2-2V5c0-1.1-.9-2-2-2zM9 17H7v-7h2v7zm4 0h-2V7h2v10zm4 0h-2v-4h2v4z\"/>\n",
              "    </g>\n",
              "</svg>\n",
              "  </button>\n",
              "\n",
              "<style>\n",
              "  .colab-df-quickchart {\n",
              "      --bg-color: #E8F0FE;\n",
              "      --fill-color: #1967D2;\n",
              "      --hover-bg-color: #E2EBFA;\n",
              "      --hover-fill-color: #174EA6;\n",
              "      --disabled-fill-color: #AAA;\n",
              "      --disabled-bg-color: #DDD;\n",
              "  }\n",
              "\n",
              "  [theme=dark] .colab-df-quickchart {\n",
              "      --bg-color: #3B4455;\n",
              "      --fill-color: #D2E3FC;\n",
              "      --hover-bg-color: #434B5C;\n",
              "      --hover-fill-color: #FFFFFF;\n",
              "      --disabled-bg-color: #3B4455;\n",
              "      --disabled-fill-color: #666;\n",
              "  }\n",
              "\n",
              "  .colab-df-quickchart {\n",
              "    background-color: var(--bg-color);\n",
              "    border: none;\n",
              "    border-radius: 50%;\n",
              "    cursor: pointer;\n",
              "    display: none;\n",
              "    fill: var(--fill-color);\n",
              "    height: 32px;\n",
              "    padding: 0;\n",
              "    width: 32px;\n",
              "  }\n",
              "\n",
              "  .colab-df-quickchart:hover {\n",
              "    background-color: var(--hover-bg-color);\n",
              "    box-shadow: 0 1px 2px rgba(60, 64, 67, 0.3), 0 1px 3px 1px rgba(60, 64, 67, 0.15);\n",
              "    fill: var(--button-hover-fill-color);\n",
              "  }\n",
              "\n",
              "  .colab-df-quickchart-complete:disabled,\n",
              "  .colab-df-quickchart-complete:disabled:hover {\n",
              "    background-color: var(--disabled-bg-color);\n",
              "    fill: var(--disabled-fill-color);\n",
              "    box-shadow: none;\n",
              "  }\n",
              "\n",
              "  .colab-df-spinner {\n",
              "    border: 2px solid var(--fill-color);\n",
              "    border-color: transparent;\n",
              "    border-bottom-color: var(--fill-color);\n",
              "    animation:\n",
              "      spin 1s steps(1) infinite;\n",
              "  }\n",
              "\n",
              "  @keyframes spin {\n",
              "    0% {\n",
              "      border-color: transparent;\n",
              "      border-bottom-color: var(--fill-color);\n",
              "      border-left-color: var(--fill-color);\n",
              "    }\n",
              "    20% {\n",
              "      border-color: transparent;\n",
              "      border-left-color: var(--fill-color);\n",
              "      border-top-color: var(--fill-color);\n",
              "    }\n",
              "    30% {\n",
              "      border-color: transparent;\n",
              "      border-left-color: var(--fill-color);\n",
              "      border-top-color: var(--fill-color);\n",
              "      border-right-color: var(--fill-color);\n",
              "    }\n",
              "    40% {\n",
              "      border-color: transparent;\n",
              "      border-right-color: var(--fill-color);\n",
              "      border-top-color: var(--fill-color);\n",
              "    }\n",
              "    60% {\n",
              "      border-color: transparent;\n",
              "      border-right-color: var(--fill-color);\n",
              "    }\n",
              "    80% {\n",
              "      border-color: transparent;\n",
              "      border-right-color: var(--fill-color);\n",
              "      border-bottom-color: var(--fill-color);\n",
              "    }\n",
              "    90% {\n",
              "      border-color: transparent;\n",
              "      border-bottom-color: var(--fill-color);\n",
              "    }\n",
              "  }\n",
              "</style>\n",
              "\n",
              "  <script>\n",
              "    async function quickchart(key) {\n",
              "      const quickchartButtonEl =\n",
              "        document.querySelector('#' + key + ' button');\n",
              "      quickchartButtonEl.disabled = true;  // To prevent multiple clicks.\n",
              "      quickchartButtonEl.classList.add('colab-df-spinner');\n",
              "      try {\n",
              "        const charts = await google.colab.kernel.invokeFunction(\n",
              "            'suggestCharts', [key], {});\n",
              "      } catch (error) {\n",
              "        console.error('Error during call to suggestCharts:', error);\n",
              "      }\n",
              "      quickchartButtonEl.classList.remove('colab-df-spinner');\n",
              "      quickchartButtonEl.classList.add('colab-df-quickchart-complete');\n",
              "    }\n",
              "    (() => {\n",
              "      let quickchartButtonEl =\n",
              "        document.querySelector('#df-1567f5fb-1edd-44dd-9b1e-43becc33a8bd button');\n",
              "      quickchartButtonEl.style.display =\n",
              "        google.colab.kernel.accessAllowed ? 'block' : 'none';\n",
              "    })();\n",
              "  </script>\n",
              "</div>\n",
              "\n",
              "    </div>\n",
              "  </div>\n"
            ]
          },
          "metadata": {},
          "execution_count": 14
        }
      ]
    },
    {
      "cell_type": "code",
      "source": [
        "price_data = fed_data.merge(price_data, left_index=True, right_index=True)"
      ],
      "metadata": {
        "id": "E4l_iYAp3ciq"
      },
      "execution_count": 15,
      "outputs": []
    },
    {
      "cell_type": "code",
      "source": [
        "price_data.columns = [\"interest\", \"vacancy\", \"cpi\", \"price\", \"value\"]\n"
      ],
      "metadata": {
        "id": "Y7z6EiQv3coA"
      },
      "execution_count": 16,
      "outputs": []
    },
    {
      "cell_type": "code",
      "source": [
        "price_data"
      ],
      "metadata": {
        "colab": {
          "base_uri": "https://localhost:8080/",
          "height": 419
        },
        "id": "9NToyfcq3crD",
        "outputId": "e598bea6-b679-46b8-901b-32fd4666699a"
      },
      "execution_count": 17,
      "outputs": [
        {
          "output_type": "execute_result",
          "data": {
            "text/plain": [
              "            interest  vacancy      cpi     price          value\n",
              "2008-02-02      5.68     10.1  212.174  190000.0  206885.853266\n",
              "2008-02-09      5.67     10.1  212.687  190000.0  206885.853266\n",
              "2008-02-16      5.72     10.1  212.687  193000.0  206885.853266\n",
              "2008-02-23      6.04     10.1  212.687  189900.0  206885.853266\n",
              "2008-03-01      6.24     10.1  212.687  194900.0  205459.521952\n",
              "...              ...      ...      ...       ...            ...\n",
              "2022-06-11      5.23      5.6  294.728  370000.0  357473.327397\n",
              "2022-06-18      5.78      5.6  294.728  375000.0  357473.327397\n",
              "2022-06-25      5.81      5.6  294.728  370000.0  357473.327397\n",
              "2022-07-02      5.70      5.6  294.728  370000.0  357107.271636\n",
              "2022-07-09      5.30      6.0  294.628  362500.0  357107.271636\n",
              "\n",
              "[735 rows x 5 columns]"
            ],
            "text/html": [
              "\n",
              "  <div id=\"df-3526d75f-e67d-44f6-9e32-32f5f8f97a37\" class=\"colab-df-container\">\n",
              "    <div>\n",
              "<style scoped>\n",
              "    .dataframe tbody tr th:only-of-type {\n",
              "        vertical-align: middle;\n",
              "    }\n",
              "\n",
              "    .dataframe tbody tr th {\n",
              "        vertical-align: top;\n",
              "    }\n",
              "\n",
              "    .dataframe thead th {\n",
              "        text-align: right;\n",
              "    }\n",
              "</style>\n",
              "<table border=\"1\" class=\"dataframe\">\n",
              "  <thead>\n",
              "    <tr style=\"text-align: right;\">\n",
              "      <th></th>\n",
              "      <th>interest</th>\n",
              "      <th>vacancy</th>\n",
              "      <th>cpi</th>\n",
              "      <th>price</th>\n",
              "      <th>value</th>\n",
              "    </tr>\n",
              "  </thead>\n",
              "  <tbody>\n",
              "    <tr>\n",
              "      <th>2008-02-02</th>\n",
              "      <td>5.68</td>\n",
              "      <td>10.1</td>\n",
              "      <td>212.174</td>\n",
              "      <td>190000.0</td>\n",
              "      <td>206885.853266</td>\n",
              "    </tr>\n",
              "    <tr>\n",
              "      <th>2008-02-09</th>\n",
              "      <td>5.67</td>\n",
              "      <td>10.1</td>\n",
              "      <td>212.687</td>\n",
              "      <td>190000.0</td>\n",
              "      <td>206885.853266</td>\n",
              "    </tr>\n",
              "    <tr>\n",
              "      <th>2008-02-16</th>\n",
              "      <td>5.72</td>\n",
              "      <td>10.1</td>\n",
              "      <td>212.687</td>\n",
              "      <td>193000.0</td>\n",
              "      <td>206885.853266</td>\n",
              "    </tr>\n",
              "    <tr>\n",
              "      <th>2008-02-23</th>\n",
              "      <td>6.04</td>\n",
              "      <td>10.1</td>\n",
              "      <td>212.687</td>\n",
              "      <td>189900.0</td>\n",
              "      <td>206885.853266</td>\n",
              "    </tr>\n",
              "    <tr>\n",
              "      <th>2008-03-01</th>\n",
              "      <td>6.24</td>\n",
              "      <td>10.1</td>\n",
              "      <td>212.687</td>\n",
              "      <td>194900.0</td>\n",
              "      <td>205459.521952</td>\n",
              "    </tr>\n",
              "    <tr>\n",
              "      <th>...</th>\n",
              "      <td>...</td>\n",
              "      <td>...</td>\n",
              "      <td>...</td>\n",
              "      <td>...</td>\n",
              "      <td>...</td>\n",
              "    </tr>\n",
              "    <tr>\n",
              "      <th>2022-06-11</th>\n",
              "      <td>5.23</td>\n",
              "      <td>5.6</td>\n",
              "      <td>294.728</td>\n",
              "      <td>370000.0</td>\n",
              "      <td>357473.327397</td>\n",
              "    </tr>\n",
              "    <tr>\n",
              "      <th>2022-06-18</th>\n",
              "      <td>5.78</td>\n",
              "      <td>5.6</td>\n",
              "      <td>294.728</td>\n",
              "      <td>375000.0</td>\n",
              "      <td>357473.327397</td>\n",
              "    </tr>\n",
              "    <tr>\n",
              "      <th>2022-06-25</th>\n",
              "      <td>5.81</td>\n",
              "      <td>5.6</td>\n",
              "      <td>294.728</td>\n",
              "      <td>370000.0</td>\n",
              "      <td>357473.327397</td>\n",
              "    </tr>\n",
              "    <tr>\n",
              "      <th>2022-07-02</th>\n",
              "      <td>5.70</td>\n",
              "      <td>5.6</td>\n",
              "      <td>294.728</td>\n",
              "      <td>370000.0</td>\n",
              "      <td>357107.271636</td>\n",
              "    </tr>\n",
              "    <tr>\n",
              "      <th>2022-07-09</th>\n",
              "      <td>5.30</td>\n",
              "      <td>6.0</td>\n",
              "      <td>294.628</td>\n",
              "      <td>362500.0</td>\n",
              "      <td>357107.271636</td>\n",
              "    </tr>\n",
              "  </tbody>\n",
              "</table>\n",
              "<p>735 rows × 5 columns</p>\n",
              "</div>\n",
              "    <div class=\"colab-df-buttons\">\n",
              "\n",
              "  <div class=\"colab-df-container\">\n",
              "    <button class=\"colab-df-convert\" onclick=\"convertToInteractive('df-3526d75f-e67d-44f6-9e32-32f5f8f97a37')\"\n",
              "            title=\"Convert this dataframe to an interactive table.\"\n",
              "            style=\"display:none;\">\n",
              "\n",
              "  <svg xmlns=\"http://www.w3.org/2000/svg\" height=\"24px\" viewBox=\"0 -960 960 960\">\n",
              "    <path d=\"M120-120v-720h720v720H120Zm60-500h600v-160H180v160Zm220 220h160v-160H400v160Zm0 220h160v-160H400v160ZM180-400h160v-160H180v160Zm440 0h160v-160H620v160ZM180-180h160v-160H180v160Zm440 0h160v-160H620v160Z\"/>\n",
              "  </svg>\n",
              "    </button>\n",
              "\n",
              "  <style>\n",
              "    .colab-df-container {\n",
              "      display:flex;\n",
              "      gap: 12px;\n",
              "    }\n",
              "\n",
              "    .colab-df-convert {\n",
              "      background-color: #E8F0FE;\n",
              "      border: none;\n",
              "      border-radius: 50%;\n",
              "      cursor: pointer;\n",
              "      display: none;\n",
              "      fill: #1967D2;\n",
              "      height: 32px;\n",
              "      padding: 0 0 0 0;\n",
              "      width: 32px;\n",
              "    }\n",
              "\n",
              "    .colab-df-convert:hover {\n",
              "      background-color: #E2EBFA;\n",
              "      box-shadow: 0px 1px 2px rgba(60, 64, 67, 0.3), 0px 1px 3px 1px rgba(60, 64, 67, 0.15);\n",
              "      fill: #174EA6;\n",
              "    }\n",
              "\n",
              "    .colab-df-buttons div {\n",
              "      margin-bottom: 4px;\n",
              "    }\n",
              "\n",
              "    [theme=dark] .colab-df-convert {\n",
              "      background-color: #3B4455;\n",
              "      fill: #D2E3FC;\n",
              "    }\n",
              "\n",
              "    [theme=dark] .colab-df-convert:hover {\n",
              "      background-color: #434B5C;\n",
              "      box-shadow: 0px 1px 3px 1px rgba(0, 0, 0, 0.15);\n",
              "      filter: drop-shadow(0px 1px 2px rgba(0, 0, 0, 0.3));\n",
              "      fill: #FFFFFF;\n",
              "    }\n",
              "  </style>\n",
              "\n",
              "    <script>\n",
              "      const buttonEl =\n",
              "        document.querySelector('#df-3526d75f-e67d-44f6-9e32-32f5f8f97a37 button.colab-df-convert');\n",
              "      buttonEl.style.display =\n",
              "        google.colab.kernel.accessAllowed ? 'block' : 'none';\n",
              "\n",
              "      async function convertToInteractive(key) {\n",
              "        const element = document.querySelector('#df-3526d75f-e67d-44f6-9e32-32f5f8f97a37');\n",
              "        const dataTable =\n",
              "          await google.colab.kernel.invokeFunction('convertToInteractive',\n",
              "                                                    [key], {});\n",
              "        if (!dataTable) return;\n",
              "\n",
              "        const docLinkHtml = 'Like what you see? Visit the ' +\n",
              "          '<a target=\"_blank\" href=https://colab.research.google.com/notebooks/data_table.ipynb>data table notebook</a>'\n",
              "          + ' to learn more about interactive tables.';\n",
              "        element.innerHTML = '';\n",
              "        dataTable['output_type'] = 'display_data';\n",
              "        await google.colab.output.renderOutput(dataTable, element);\n",
              "        const docLink = document.createElement('div');\n",
              "        docLink.innerHTML = docLinkHtml;\n",
              "        element.appendChild(docLink);\n",
              "      }\n",
              "    </script>\n",
              "  </div>\n",
              "\n",
              "\n",
              "<div id=\"df-3a98810a-b8e1-4a0f-a923-086150696a83\">\n",
              "  <button class=\"colab-df-quickchart\" onclick=\"quickchart('df-3a98810a-b8e1-4a0f-a923-086150696a83')\"\n",
              "            title=\"Suggest charts\"\n",
              "            style=\"display:none;\">\n",
              "\n",
              "<svg xmlns=\"http://www.w3.org/2000/svg\" height=\"24px\"viewBox=\"0 0 24 24\"\n",
              "     width=\"24px\">\n",
              "    <g>\n",
              "        <path d=\"M19 3H5c-1.1 0-2 .9-2 2v14c0 1.1.9 2 2 2h14c1.1 0 2-.9 2-2V5c0-1.1-.9-2-2-2zM9 17H7v-7h2v7zm4 0h-2V7h2v10zm4 0h-2v-4h2v4z\"/>\n",
              "    </g>\n",
              "</svg>\n",
              "  </button>\n",
              "\n",
              "<style>\n",
              "  .colab-df-quickchart {\n",
              "      --bg-color: #E8F0FE;\n",
              "      --fill-color: #1967D2;\n",
              "      --hover-bg-color: #E2EBFA;\n",
              "      --hover-fill-color: #174EA6;\n",
              "      --disabled-fill-color: #AAA;\n",
              "      --disabled-bg-color: #DDD;\n",
              "  }\n",
              "\n",
              "  [theme=dark] .colab-df-quickchart {\n",
              "      --bg-color: #3B4455;\n",
              "      --fill-color: #D2E3FC;\n",
              "      --hover-bg-color: #434B5C;\n",
              "      --hover-fill-color: #FFFFFF;\n",
              "      --disabled-bg-color: #3B4455;\n",
              "      --disabled-fill-color: #666;\n",
              "  }\n",
              "\n",
              "  .colab-df-quickchart {\n",
              "    background-color: var(--bg-color);\n",
              "    border: none;\n",
              "    border-radius: 50%;\n",
              "    cursor: pointer;\n",
              "    display: none;\n",
              "    fill: var(--fill-color);\n",
              "    height: 32px;\n",
              "    padding: 0;\n",
              "    width: 32px;\n",
              "  }\n",
              "\n",
              "  .colab-df-quickchart:hover {\n",
              "    background-color: var(--hover-bg-color);\n",
              "    box-shadow: 0 1px 2px rgba(60, 64, 67, 0.3), 0 1px 3px 1px rgba(60, 64, 67, 0.15);\n",
              "    fill: var(--button-hover-fill-color);\n",
              "  }\n",
              "\n",
              "  .colab-df-quickchart-complete:disabled,\n",
              "  .colab-df-quickchart-complete:disabled:hover {\n",
              "    background-color: var(--disabled-bg-color);\n",
              "    fill: var(--disabled-fill-color);\n",
              "    box-shadow: none;\n",
              "  }\n",
              "\n",
              "  .colab-df-spinner {\n",
              "    border: 2px solid var(--fill-color);\n",
              "    border-color: transparent;\n",
              "    border-bottom-color: var(--fill-color);\n",
              "    animation:\n",
              "      spin 1s steps(1) infinite;\n",
              "  }\n",
              "\n",
              "  @keyframes spin {\n",
              "    0% {\n",
              "      border-color: transparent;\n",
              "      border-bottom-color: var(--fill-color);\n",
              "      border-left-color: var(--fill-color);\n",
              "    }\n",
              "    20% {\n",
              "      border-color: transparent;\n",
              "      border-left-color: var(--fill-color);\n",
              "      border-top-color: var(--fill-color);\n",
              "    }\n",
              "    30% {\n",
              "      border-color: transparent;\n",
              "      border-left-color: var(--fill-color);\n",
              "      border-top-color: var(--fill-color);\n",
              "      border-right-color: var(--fill-color);\n",
              "    }\n",
              "    40% {\n",
              "      border-color: transparent;\n",
              "      border-right-color: var(--fill-color);\n",
              "      border-top-color: var(--fill-color);\n",
              "    }\n",
              "    60% {\n",
              "      border-color: transparent;\n",
              "      border-right-color: var(--fill-color);\n",
              "    }\n",
              "    80% {\n",
              "      border-color: transparent;\n",
              "      border-right-color: var(--fill-color);\n",
              "      border-bottom-color: var(--fill-color);\n",
              "    }\n",
              "    90% {\n",
              "      border-color: transparent;\n",
              "      border-bottom-color: var(--fill-color);\n",
              "    }\n",
              "  }\n",
              "</style>\n",
              "\n",
              "  <script>\n",
              "    async function quickchart(key) {\n",
              "      const quickchartButtonEl =\n",
              "        document.querySelector('#' + key + ' button');\n",
              "      quickchartButtonEl.disabled = true;  // To prevent multiple clicks.\n",
              "      quickchartButtonEl.classList.add('colab-df-spinner');\n",
              "      try {\n",
              "        const charts = await google.colab.kernel.invokeFunction(\n",
              "            'suggestCharts', [key], {});\n",
              "      } catch (error) {\n",
              "        console.error('Error during call to suggestCharts:', error);\n",
              "      }\n",
              "      quickchartButtonEl.classList.remove('colab-df-spinner');\n",
              "      quickchartButtonEl.classList.add('colab-df-quickchart-complete');\n",
              "    }\n",
              "    (() => {\n",
              "      let quickchartButtonEl =\n",
              "        document.querySelector('#df-3a98810a-b8e1-4a0f-a923-086150696a83 button');\n",
              "      quickchartButtonEl.style.display =\n",
              "        google.colab.kernel.accessAllowed ? 'block' : 'none';\n",
              "    })();\n",
              "  </script>\n",
              "</div>\n",
              "\n",
              "  <div id=\"id_3e1d788e-5e8f-4d94-90bf-86b96badd5e4\">\n",
              "    <style>\n",
              "      .colab-df-generate {\n",
              "        background-color: #E8F0FE;\n",
              "        border: none;\n",
              "        border-radius: 50%;\n",
              "        cursor: pointer;\n",
              "        display: none;\n",
              "        fill: #1967D2;\n",
              "        height: 32px;\n",
              "        padding: 0 0 0 0;\n",
              "        width: 32px;\n",
              "      }\n",
              "\n",
              "      .colab-df-generate:hover {\n",
              "        background-color: #E2EBFA;\n",
              "        box-shadow: 0px 1px 2px rgba(60, 64, 67, 0.3), 0px 1px 3px 1px rgba(60, 64, 67, 0.15);\n",
              "        fill: #174EA6;\n",
              "      }\n",
              "\n",
              "      [theme=dark] .colab-df-generate {\n",
              "        background-color: #3B4455;\n",
              "        fill: #D2E3FC;\n",
              "      }\n",
              "\n",
              "      [theme=dark] .colab-df-generate:hover {\n",
              "        background-color: #434B5C;\n",
              "        box-shadow: 0px 1px 3px 1px rgba(0, 0, 0, 0.15);\n",
              "        filter: drop-shadow(0px 1px 2px rgba(0, 0, 0, 0.3));\n",
              "        fill: #FFFFFF;\n",
              "      }\n",
              "    </style>\n",
              "    <button class=\"colab-df-generate\" onclick=\"generateWithVariable('price_data')\"\n",
              "            title=\"Generate code using this dataframe.\"\n",
              "            style=\"display:none;\">\n",
              "\n",
              "  <svg xmlns=\"http://www.w3.org/2000/svg\" height=\"24px\"viewBox=\"0 0 24 24\"\n",
              "       width=\"24px\">\n",
              "    <path d=\"M7,19H8.4L18.45,9,17,7.55,7,17.6ZM5,21V16.75L18.45,3.32a2,2,0,0,1,2.83,0l1.4,1.43a1.91,1.91,0,0,1,.58,1.4,1.91,1.91,0,0,1-.58,1.4L9.25,21ZM18.45,9,17,7.55Zm-12,3A5.31,5.31,0,0,0,4.9,8.1,5.31,5.31,0,0,0,1,6.5,5.31,5.31,0,0,0,4.9,4.9,5.31,5.31,0,0,0,6.5,1,5.31,5.31,0,0,0,8.1,4.9,5.31,5.31,0,0,0,12,6.5,5.46,5.46,0,0,0,6.5,12Z\"/>\n",
              "  </svg>\n",
              "    </button>\n",
              "    <script>\n",
              "      (() => {\n",
              "      const buttonEl =\n",
              "        document.querySelector('#id_3e1d788e-5e8f-4d94-90bf-86b96badd5e4 button.colab-df-generate');\n",
              "      buttonEl.style.display =\n",
              "        google.colab.kernel.accessAllowed ? 'block' : 'none';\n",
              "\n",
              "      buttonEl.onclick = () => {\n",
              "        google.colab.notebook.generateWithVariable('price_data');\n",
              "      }\n",
              "      })();\n",
              "    </script>\n",
              "  </div>\n",
              "\n",
              "    </div>\n",
              "  </div>\n"
            ]
          },
          "metadata": {},
          "execution_count": 17
        }
      ]
    },
    {
      "cell_type": "code",
      "source": [
        "price_data[\"adj_price\"] = price_data[\"price\"] / price_data[\"cpi\"] * 100\n",
        "price_data[\"adj_value\"] = price_data[\"value\"] / price_data[\"cpi\"] * 100"
      ],
      "metadata": {
        "id": "Pb87JrnV3ct3"
      },
      "execution_count": 18,
      "outputs": []
    },
    {
      "cell_type": "code",
      "source": [
        "price_data.plot.line(y=\"price\", use_index=True)"
      ],
      "metadata": {
        "colab": {
          "base_uri": "https://localhost:8080/",
          "height": 419
        },
        "id": "5kWl_tkD3cwt",
        "outputId": "8a272b09-83c2-469d-9d98-b570153cd8d8"
      },
      "execution_count": 19,
      "outputs": [
        {
          "output_type": "execute_result",
          "data": {
            "text/plain": [
              "<Axes: >"
            ]
          },
          "metadata": {},
          "execution_count": 19
        },
        {
          "output_type": "display_data",
          "data": {
            "text/plain": [
              "<Figure size 640x480 with 1 Axes>"
            ],
            "image/png": "[encoded data removed]"
          },
          "metadata": {}
        }
      ]
    },
    {
      "cell_type": "code",
      "source": [
        "price_data.plot.line(y=\"adj_price\", use_index=True)"
      ],
      "metadata": {
        "colab": {
          "base_uri": "https://localhost:8080/",
          "height": 419
        },
        "id": "bdIj2D-t3czu",
        "outputId": "b32515c7-e606-44be-fa8a-5f64eb23305c"
      },
      "execution_count": 20,
      "outputs": [
        {
          "output_type": "execute_result",
          "data": {
            "text/plain": [
              "<Axes: >"
            ]
          },
          "metadata": {},
          "execution_count": 20
        },
        {
          "output_type": "display_data",
          "data": {
            "text/plain": [
              "<Figure size 640x480 with 1 Axes>"
            ],
            "image/png": "[encoded data removed]"
          },
          "metadata": {}
        }
      ]
    },
    {
      "cell_type": "code",
      "source": [
        "price_data[\"next_quarter\"] = price_data[\"adj_price\"].shift(-13)"
      ],
      "metadata": {
        "id": "PPnC7KUF3c2V"
      },
      "execution_count": 21,
      "outputs": []
    },
    {
      "cell_type": "code",
      "source": [
        "price_data.dropna(inplace=True)"
      ],
      "metadata": {
        "id": "9duS9rDB3Ezn"
      },
      "execution_count": 22,
      "outputs": []
    },
    {
      "cell_type": "code",
      "source": [
        "price_data[\"change\"] = (price_data[\"next_quarter\"] > price_data[\"adj_price\"]).astype(int)"
      ],
      "metadata": {
        "id": "hbenGbJu34A_"
      },
      "execution_count": 23,
      "outputs": []
    },
    {
      "cell_type": "code",
      "source": [
        "price_data[\"change\"].value_counts()"
      ],
      "metadata": {
        "colab": {
          "base_uri": "https://localhost:8080/"
        },
        "id": "SplnW87_342a",
        "outputId": "4d220967-5fbb-4556-ff25-79e534ad65ae"
      },
      "execution_count": 24,
      "outputs": [
        {
          "output_type": "execute_result",
          "data": {
            "text/plain": [
              "1    376\n",
              "0    346\n",
              "Name: change, dtype: int64"
            ]
          },
          "metadata": {},
          "execution_count": 24
        }
      ]
    },
    {
      "cell_type": "code",
      "source": [
        "predictors = [\"interest\", \"vacancy\", \"adj_price\", \"adj_value\"]\n",
        "target = \"change\""
      ],
      "metadata": {
        "id": "QnLDwS-C345c"
      },
      "execution_count": 25,
      "outputs": []
    },
    {
      "cell_type": "code",
      "source": [
        "START = 260\n",
        "STEP = 52"
      ],
      "metadata": {
        "id": "yVdPr4qT4PJ1"
      },
      "execution_count": 26,
      "outputs": []
    },
    {
      "cell_type": "code",
      "source": [
        "def predict(train, test, predictors, target):\n",
        "    mlp = MLPClassifier(hidden_layer_sizes=(100, 50), max_iter=500, random_state=1)\n",
        "    mlp.fit(train[predictors], train[target])\n",
        "    preds = mlp.predict(test[predictors])\n",
        "    return preds\n"
      ],
      "metadata": {
        "id": "e09oX12L4cTH"
      },
      "execution_count": 27,
      "outputs": []
    },
    {
      "cell_type": "markdown",
      "source": [
        "training and testing data"
      ],
      "metadata": {
        "id": "lPKmg2V07Hze"
      }
    },
    {
      "cell_type": "code",
      "source": [
        "def backtest(data, predictors, target):\n",
        "    all_preds = []\n",
        "    for i in range(START, data.shape[0], STEP):\n",
        "        #training\n",
        "        train = price_data.iloc[:i]\n",
        "        #test\n",
        "        test = price_data.iloc[i:(i+STEP)]\n",
        "        print(\"Training Data:\")\n",
        "        print(train)\n",
        "\n",
        "        # Print testing data\n",
        "        print(\"Testing Data:\")\n",
        "        print(test)\n",
        "\n",
        "\n",
        "        all_preds.append(predict(train, test, predictors, target))\n",
        "\n",
        "    preds = np.concatenate(all_preds)\n",
        "    return preds, accuracy_score(data.iloc[START:][target], preds)"
      ],
      "metadata": {
        "id": "G-O7uBF64cZ-"
      },
      "execution_count": 59,
      "outputs": []
    },
    {
      "cell_type": "code",
      "source": [
        "backtest_mlp(price_data, predictors, target)"
      ],
      "metadata": {
        "id": "vltLxpOk8gxr",
        "outputId": "f8021384-a0e1-4cb4-a92d-bd7de9d34023",
        "colab": {
          "base_uri": "https://localhost:8080/"
        }
      },
      "execution_count": 60,
      "outputs": [
        {
          "output_type": "execute_result",
          "data": {
            "text/plain": [
              "(array([1, 1, 1, 1, 1, 1, 1, 1, 1, 1, 0, 1, 0, 1, 0, 0, 0, 0, 0, 0, 0, 0,\n",
              "        0, 0, 0, 1, 1, 1, 1, 1, 1, 1, 1, 1, 1, 1, 1, 1, 1, 1, 1, 1, 1, 1,\n",
              "        1, 1, 1, 1, 1, 1, 1, 1, 1, 1, 1, 1, 1, 1, 1, 1, 1, 1, 1, 1, 1, 1,\n",
              "        0, 0, 1, 1, 1, 1, 1, 1, 1, 1, 1, 1, 1, 1, 1, 1, 1, 1, 1, 1, 1, 1,\n",
              "        1, 1, 1, 1, 1, 1, 1, 1, 1, 1, 1, 1, 1, 1, 1, 1, 1, 1, 1, 1, 1, 1,\n",
              "        1, 1, 1, 1, 1, 1, 1, 1, 1, 1, 1, 1, 1, 1, 1, 1, 1, 1, 1, 1, 1, 1,\n",
              "        1, 1, 1, 1, 1, 1, 1, 1, 1, 1, 1, 1, 1, 1, 1, 1, 1, 1, 1, 1, 1, 1,\n",
              "        1, 1, 1, 1, 1, 1, 1, 1, 1, 1, 1, 1, 1, 1, 1, 1, 1, 1, 1, 1, 1, 1,\n",
              "        1, 1, 1, 1, 1, 1, 1, 1, 1, 1, 1, 1, 1, 1, 1, 1, 1, 1, 1, 1, 1, 1,\n",
              "        1, 1, 1, 1, 1, 1, 1, 1, 1, 1, 0, 0, 0, 0, 0, 0, 0, 0, 0, 0, 0, 0,\n",
              "        0, 0, 0, 0, 0, 0, 0, 0, 0, 0, 0, 0, 0, 0, 0, 0, 0, 0, 0, 0, 0, 0,\n",
              "        0, 0, 0, 0, 0, 0, 0, 0, 0, 0, 0, 0, 0, 0, 0, 0, 0, 0, 0, 0, 0, 0,\n",
              "        0, 0, 0, 0, 0, 0, 0, 0, 0, 0, 0, 0, 0, 0, 0, 0, 0, 0, 0, 0, 0, 0,\n",
              "        0, 0, 0, 0, 0, 0, 0, 0, 0, 0, 0, 0, 0, 0, 0, 0, 0, 0, 0, 0, 0, 0,\n",
              "        0, 0, 0, 0, 1, 1, 1, 1, 1, 1, 1, 1, 1, 1, 1, 1, 1, 1, 1, 1, 1, 1,\n",
              "        1, 1, 1, 1, 1, 1, 1, 1, 1, 1, 1, 1, 1, 1, 1, 1, 1, 1, 1, 1, 1, 1,\n",
              "        1, 1, 1, 1, 1, 1, 1, 1, 1, 1, 1, 1, 0, 0, 0, 0, 0, 0, 0, 0, 0, 0,\n",
              "        0, 0, 0, 0, 0, 0, 0, 0, 0, 0, 0, 0, 0, 0, 0, 0, 0, 0, 0, 0, 0, 0,\n",
              "        0, 0, 0, 0, 0, 0, 0, 0, 0, 0, 0, 0, 0, 0, 0, 0, 0, 0, 0, 0, 1, 1,\n",
              "        1, 1, 1, 1, 1, 1, 1, 1, 1, 1, 1, 1, 1, 1, 1, 1, 1, 1, 1, 1, 1, 1,\n",
              "        1, 1, 1, 1, 1, 1, 1, 1, 1, 1, 1, 1, 1, 1, 1, 1, 1, 1, 1, 1, 1, 1]),\n",
              " 0.5086580086580087)"
            ]
          },
          "metadata": {},
          "execution_count": 60
        }
      ]
    },
    {
      "cell_type": "code",
      "source": [
        "from sklearn.metrics import confusion_matrix, classification_report"
      ],
      "metadata": {
        "id": "a3T0LvCe8quN"
      },
      "execution_count": 61,
      "outputs": []
    },
    {
      "cell_type": "code",
      "source": [
        "actual = price_data[target].iloc[START:]"
      ],
      "metadata": {
        "id": "TLqk-lx38sLN"
      },
      "execution_count": 62,
      "outputs": []
    },
    {
      "cell_type": "code",
      "source": [
        "conf_matrix = confusion_matrix(actual, preds)\n",
        "print(\"Confusion Matrix:\")\n",
        "print(conf_matrix)"
      ],
      "metadata": {
        "id": "Ez3QZ6Xd8sTo",
        "outputId": "edc9e7cb-ca53-412f-8dc3-9a042e2a3670",
        "colab": {
          "base_uri": "https://localhost:8080/"
        }
      },
      "execution_count": 63,
      "outputs": [
        {
          "output_type": "stream",
          "name": "stdout",
          "text": [
            "Confusion Matrix:\n",
            "[[ 79 115]\n",
            " [ 75 193]]\n"
          ]
        }
      ]
    },
    {
      "cell_type": "code",
      "source": [
        "class_report = classification_report(actual, preds)\n",
        "print(\"\\nClassification Report:\")\n",
        "print(class_report)"
      ],
      "metadata": {
        "id": "INER6zf48scf",
        "outputId": "1f837f5e-80c3-4d87-a2b4-b2e76c469294",
        "colab": {
          "base_uri": "https://localhost:8080/"
        }
      },
      "execution_count": 64,
      "outputs": [
        {
          "output_type": "stream",
          "name": "stdout",
          "text": [
            "\n",
            "Classification Report:\n",
            "              precision    recall  f1-score   support\n",
            "\n",
            "           0       0.51      0.41      0.45       194\n",
            "           1       0.63      0.72      0.67       268\n",
            "\n",
            "    accuracy                           0.59       462\n",
            "   macro avg       0.57      0.56      0.56       462\n",
            "weighted avg       0.58      0.59      0.58       462\n",
            "\n"
          ]
        }
      ]
    },
    {
      "cell_type": "code",
      "source": [
        "preds, accuracy = backtest(price_data, predictors, target)"
      ],
      "metadata": {
        "id": "4lzdVwvF4kLc"
      },
      "execution_count": 57,
      "outputs": []
    },
    {
      "cell_type": "code",
      "source": [
        "print(\"Accuracy:\", accuracy)"
      ],
      "metadata": {
        "id": "2qVldVmu4uV4",
        "outputId": "568df677-26e5-45a3-9042-0f6684ecf0d0",
        "colab": {
          "base_uri": "https://localhost:8080/"
        }
      },
      "execution_count": 32,
      "outputs": [
        {
          "output_type": "stream",
          "name": "stdout",
          "text": [
            "Accuracy: 0.5086580086580087\n"
          ]
        }
      ]
    },
    {
      "cell_type": "code",
      "source": [
        "def predict_mlp(train, test, predictors, target):\n",
        "    mlp = MLPClassifier(hidden_layer_sizes=(100, 50), max_iter=500, random_state=1)\n",
        "    mlp.fit(train[predictors], train[target])\n",
        "    preds = mlp.predict(test[predictors])\n",
        "    return preds"
      ],
      "metadata": {
        "id": "C30PL-Vb6T26"
      },
      "execution_count": 46,
      "outputs": []
    },
    {
      "cell_type": "code",
      "source": [
        "def backtest_mlp(data, predictors, target):\n",
        "    all_preds = []\n",
        "    for i in range(START, data.shape[0], STEP):\n",
        "        train = data.iloc[:i]\n",
        "        test = data.iloc[i:(i+STEP)]\n",
        "        all_preds.append(predict_mlp(train, test, predictors, target))\n",
        "\n",
        "    preds = np.concatenate(all_preds)\n",
        "    return preds, accuracy_score(data.iloc[START:][target], preds)"
      ],
      "metadata": {
        "id": "aIxQkAg_6T7q"
      },
      "execution_count": 47,
      "outputs": []
    },
    {
      "cell_type": "code",
      "source": [
        "preds_mlp, accuracy_mlp = backtest_mlp(price_data, predictors, target)\n",
        "print(\"MLP Accuracy:\", accuracy_mlp)\n"
      ],
      "metadata": {
        "id": "b8MCPwcc6T-S",
        "outputId": "fb55fac7-4956-4fc7-9c36-d04413baac87",
        "colab": {
          "base_uri": "https://localhost:8080/"
        }
      },
      "execution_count": 48,
      "outputs": [
        {
          "output_type": "stream",
          "name": "stdout",
          "text": [
            "MLP Accuracy: 0.5086580086580087\n"
          ]
        }
      ]
    },
    {
      "cell_type": "code",
      "source": [
        "pred_match_mlp = (preds_mlp == price_data[target].iloc[START:])\n",
        "pred_match_mlp[pred_match_mlp == True] = \"pink\"\n",
        "pred_match_mlp[pred_match_mlp == False] = \"blue\""
      ],
      "metadata": {
        "id": "0HLfgP836UAQ"
      },
      "execution_count": 49,
      "outputs": []
    },
    {
      "cell_type": "code",
      "source": [
        "plot_data_mlp = price_data.iloc[START:].copy()\n"
      ],
      "metadata": {
        "id": "LEX_N0GJ6UCf"
      },
      "execution_count": 50,
      "outputs": []
    },
    {
      "cell_type": "code",
      "source": [
        "plot_data_mlp.reset_index().plot.scatter(x=\"index\", y=\"adj_price\", color=pred_match_mlp)\n",
        "plt.title(\"MLP Results\")\n",
        "plt.show()"
      ],
      "metadata": {
        "id": "u3-s483W6gkP",
        "outputId": "8967179e-65b0-47d6-f65b-63aad7414994",
        "colab": {
          "base_uri": "https://localhost:8080/",
          "height": 472
        }
      },
      "execution_count": 51,
      "outputs": [
        {
          "output_type": "display_data",
          "data": {
            "text/plain": [
              "<Figure size 640x480 with 1 Axes>"
            ],
            "image/png": "[encoded data removed]"
          },
          "metadata": {}
        }
      ]
    },
    {
      "cell_type": "code",
      "source": [
        "from sklearn.ensemble import RandomForestClassifier\n",
        "from sklearn.metrics import accuracy_score\n",
        "import numpy as np\n",
        "\n",
        "START = 260\n",
        "STEP = 52\n",
        "\n",
        "def predict(train, test, predictors, target):\n",
        "    rf = RandomForestClassifier(min_samples_split=10, random_state=1)\n",
        "    rf.fit(train[predictors], train[target])\n",
        "    preds = rf.predict(test[predictors])\n",
        "    return preds\n",
        "\n",
        "def backtest(data, predictors, target):\n",
        "    all_preds = []\n",
        "    for i in range(START, data.shape[0], STEP):\n",
        "        train = price_data.iloc[:i]\n",
        "        test = price_data.iloc[i:(i+STEP)]\n",
        "        all_preds.append(predict(train, test, predictors, target))\n",
        "\n",
        "    preds = np.concatenate(all_preds)\n",
        "    return preds, accuracy_score(data.iloc[START:][target], preds)"
      ],
      "metadata": {
        "id": "g05NdTw6348c"
      },
      "execution_count": 33,
      "outputs": []
    },
    {
      "cell_type": "code",
      "source": [
        "preds, accuracy = backtest(price_data, predictors, target)"
      ],
      "metadata": {
        "id": "mDz--g3x34_A"
      },
      "execution_count": 34,
      "outputs": []
    },
    {
      "cell_type": "code",
      "source": [
        "preds"
      ],
      "metadata": {
        "colab": {
          "base_uri": "https://localhost:8080/"
        },
        "id": "JlTDhLwc35B3",
        "outputId": "68c2c9ba-0a47-4e19-98b3-a1cb84ca8025"
      },
      "execution_count": 35,
      "outputs": [
        {
          "output_type": "execute_result",
          "data": {
            "text/plain": [
              "array([1, 1, 1, 0, 1, 0, 0, 0, 0, 0, 0, 0, 0, 0, 0, 0, 0, 0, 0, 0, 0, 0,\n",
              "       0, 0, 0, 0, 0, 0, 0, 0, 0, 0, 0, 0, 0, 0, 0, 0, 0, 0, 0, 0, 0, 0,\n",
              "       0, 0, 0, 0, 0, 0, 0, 0, 1, 0, 0, 0, 0, 0, 0, 0, 0, 0, 0, 0, 0, 0,\n",
              "       0, 0, 0, 0, 0, 0, 0, 0, 0, 0, 0, 0, 0, 0, 0, 0, 0, 0, 0, 0, 0, 0,\n",
              "       0, 0, 0, 0, 0, 0, 0, 0, 1, 0, 0, 0, 0, 0, 0, 0, 1, 1, 1, 1, 1, 1,\n",
              "       1, 1, 1, 1, 0, 0, 0, 0, 0, 0, 0, 0, 0, 0, 0, 1, 0, 0, 0, 1, 1, 1,\n",
              "       1, 1, 1, 1, 0, 0, 1, 0, 0, 0, 0, 1, 1, 1, 1, 1, 1, 1, 1, 1, 1, 1,\n",
              "       1, 1, 1, 1, 1, 1, 1, 1, 1, 1, 1, 1, 1, 1, 1, 1, 1, 1, 1, 1, 1, 1,\n",
              "       1, 1, 1, 1, 1, 1, 1, 1, 1, 1, 1, 1, 0, 0, 0, 0, 0, 0, 0, 0, 0, 0,\n",
              "       0, 0, 0, 0, 0, 0, 0, 0, 0, 0, 1, 1, 1, 1, 1, 1, 1, 1, 0, 1, 0, 0,\n",
              "       1, 1, 1, 1, 1, 0, 0, 0, 0, 0, 0, 0, 0, 0, 0, 0, 1, 1, 0, 1, 0, 1,\n",
              "       1, 1, 1, 1, 1, 1, 1, 1, 1, 1, 1, 1, 1, 1, 1, 1, 1, 1, 1, 1, 1, 1,\n",
              "       1, 1, 1, 1, 1, 1, 1, 1, 1, 1, 1, 1, 1, 1, 1, 1, 1, 1, 1, 1, 1, 1,\n",
              "       1, 1, 1, 1, 1, 1, 1, 1, 1, 1, 1, 1, 1, 1, 1, 1, 1, 1, 1, 1, 1, 1,\n",
              "       1, 1, 1, 1, 1, 1, 1, 1, 1, 1, 1, 1, 1, 1, 1, 1, 1, 1, 1, 1, 1, 1,\n",
              "       1, 1, 1, 1, 1, 1, 1, 1, 1, 1, 1, 1, 1, 1, 1, 1, 1, 1, 1, 1, 1, 1,\n",
              "       1, 1, 1, 1, 1, 1, 1, 1, 1, 1, 1, 1, 1, 1, 1, 1, 1, 1, 1, 1, 1, 1,\n",
              "       1, 1, 1, 1, 1, 1, 1, 1, 1, 1, 1, 1, 1, 1, 1, 1, 1, 1, 1, 1, 1, 1,\n",
              "       1, 1, 1, 1, 1, 1, 1, 1, 1, 1, 1, 1, 1, 1, 1, 1, 1, 1, 1, 1, 1, 1,\n",
              "       1, 1, 1, 1, 1, 1, 1, 1, 1, 1, 1, 1, 1, 1, 1, 1, 1, 1, 1, 1, 1, 1,\n",
              "       1, 1, 1, 1, 1, 1, 1, 1, 1, 1, 1, 1, 1, 1, 1, 1, 1, 1, 1, 1, 1, 1])"
            ]
          },
          "metadata": {},
          "execution_count": 35
        }
      ]
    },
    {
      "cell_type": "code",
      "source": [
        "accuracy"
      ],
      "metadata": {
        "colab": {
          "base_uri": "https://localhost:8080/"
        },
        "id": "ywUjmm2335Ec",
        "outputId": "55d379ae-bf13-4a31-87ba-c5680cf22ce9"
      },
      "execution_count": 36,
      "outputs": [
        {
          "output_type": "execute_result",
          "data": {
            "text/plain": [
              "0.5887445887445888"
            ]
          },
          "metadata": {},
          "execution_count": 36
        }
      ]
    },
    {
      "cell_type": "code",
      "source": [
        "yearly = price_data.rolling(52, min_periods=1).mean()"
      ],
      "metadata": {
        "id": "IXosQL_q35G-"
      },
      "execution_count": 37,
      "outputs": []
    },
    {
      "cell_type": "code",
      "source": [
        "yearly_ratios = [p + \"_year\" for p in predictors]\n",
        "price_data[yearly_ratios] = price_data[predictors] / yearly[predictors]\n"
      ],
      "metadata": {
        "id": "AjTF9XIv4L8d"
      },
      "execution_count": 38,
      "outputs": []
    },
    {
      "cell_type": "code",
      "source": [
        "price_data"
      ],
      "metadata": {
        "colab": {
          "base_uri": "https://localhost:8080/",
          "height": 609
        },
        "id": "Tp6Rjys64L_f",
        "outputId": "c5310c72-1651-4eb7-8caf-809633aee9d7"
      },
      "execution_count": 39,
      "outputs": [
        {
          "output_type": "execute_result",
          "data": {
            "text/plain": [
              "            interest  vacancy      cpi     price          value  \\\n",
              "2008-02-02      5.68     10.1  212.174  190000.0  206885.853266   \n",
              "2008-02-09      5.67     10.1  212.687  190000.0  206885.853266   \n",
              "2008-02-16      5.72     10.1  212.687  193000.0  206885.853266   \n",
              "2008-02-23      6.04     10.1  212.687  189900.0  206885.853266   \n",
              "2008-03-01      6.24     10.1  212.687  194900.0  205459.521952   \n",
              "...              ...      ...      ...       ...            ...   \n",
              "2022-03-12      3.85      5.8  287.472  350000.0  344042.433111   \n",
              "2022-03-19      4.16      5.8  287.472  350000.0  344042.433111   \n",
              "2022-03-26      4.42      5.8  287.472  355000.0  344042.433111   \n",
              "2022-04-02      4.67      5.8  287.472  360000.0  350515.841789   \n",
              "2022-04-09      4.72      5.6  288.611  365000.0  350515.841789   \n",
              "\n",
              "                adj_price      adj_value   next_quarter  change  \\\n",
              "2008-02-02   89549.143627   97507.636782   90610.014498       1   \n",
              "2008-02-09   89333.151533   97272.448841   90563.547824       1   \n",
              "2008-02-16   90743.674978   97272.448841   91014.739229       1   \n",
              "2008-02-23   89286.134084   97272.448841   90610.014498       1   \n",
              "2008-03-01   91637.006493   96601.824254   92933.348203       1   \n",
              "...                   ...            ...            ...     ...   \n",
              "2022-03-12  121750.987922   119678.58891   125539.48047       1   \n",
              "2022-03-19  121750.987922   119678.58891  127235.959936       1   \n",
              "2022-03-26   123490.28775   119678.58891   125539.48047       1   \n",
              "2022-04-02  125229.587577  121930.428629   125539.48047       1   \n",
              "2022-04-09  126467.806147  121449.231592  123036.507053       0   \n",
              "\n",
              "            interest_year  vacancy_year adj_price_year adj_value_year  \n",
              "2008-02-02       1.000000      1.000000            1.0            1.0  \n",
              "2008-02-09       0.999119      1.000000       0.998793       0.998793  \n",
              "2008-02-16       1.005272      1.000000       1.009662       0.999195  \n",
              "2008-02-23       1.045435      1.000000       0.995075       0.999396  \n",
              "2008-03-01       1.063032      1.000000       1.016948       0.993996  \n",
              "...                   ...           ...            ...            ...  \n",
              "2022-03-12       1.235955      0.977317       1.022014       1.050166  \n",
              "2022-03-19       1.326140      0.980494       1.020613       1.048017  \n",
              "2022-03-26       1.397289      0.983692       1.033486       1.045877  \n",
              "2022-04-02       1.462275      0.986911       1.046342       1.062983  \n",
              "2022-04-09       1.464264      0.956636       1.054958       1.056322  \n",
              "\n",
              "[722 rows x 13 columns]"
            ],
            "text/html": [
              "\n",
              "  <div id=\"df-e68b4782-18a3-4dbb-91e1-e9afc00f1196\" class=\"colab-df-container\">\n",
              "    <div>\n",
              "<style scoped>\n",
              "    .dataframe tbody tr th:only-of-type {\n",
              "        vertical-align: middle;\n",
              "    }\n",
              "\n",
              "    .dataframe tbody tr th {\n",
              "        vertical-align: top;\n",
              "    }\n",
              "\n",
              "    .dataframe thead th {\n",
              "        text-align: right;\n",
              "    }\n",
              "</style>\n",
              "<table border=\"1\" class=\"dataframe\">\n",
              "  <thead>\n",
              "    <tr style=\"text-align: right;\">\n",
              "      <th></th>\n",
              "      <th>interest</th>\n",
              "      <th>vacancy</th>\n",
              "      <th>cpi</th>\n",
              "      <th>price</th>\n",
              "      <th>value</th>\n",
              "      <th>adj_price</th>\n",
              "      <th>adj_value</th>\n",
              "      <th>next_quarter</th>\n",
              "      <th>change</th>\n",
              "      <th>interest_year</th>\n",
              "      <th>vacancy_year</th>\n",
              "      <th>adj_price_year</th>\n",
              "      <th>adj_value_year</th>\n",
              "    </tr>\n",
              "  </thead>\n",
              "  <tbody>\n",
              "    <tr>\n",
              "      <th>2008-02-02</th>\n",
              "      <td>5.68</td>\n",
              "      <td>10.1</td>\n",
              "      <td>212.174</td>\n",
              "      <td>190000.0</td>\n",
              "      <td>206885.853266</td>\n",
              "      <td>89549.143627</td>\n",
              "      <td>97507.636782</td>\n",
              "      <td>90610.014498</td>\n",
              "      <td>1</td>\n",
              "      <td>1.000000</td>\n",
              "      <td>1.000000</td>\n",
              "      <td>1.0</td>\n",
              "      <td>1.0</td>\n",
              "    </tr>\n",
              "    <tr>\n",
              "      <th>2008-02-09</th>\n",
              "      <td>5.67</td>\n",
              "      <td>10.1</td>\n",
              "      <td>212.687</td>\n",
              "      <td>190000.0</td>\n",
              "      <td>206885.853266</td>\n",
              "      <td>89333.151533</td>\n",
              "      <td>97272.448841</td>\n",
              "      <td>90563.547824</td>\n",
              "      <td>1</td>\n",
              "      <td>0.999119</td>\n",
              "      <td>1.000000</td>\n",
              "      <td>0.998793</td>\n",
              "      <td>0.998793</td>\n",
              "    </tr>\n",
              "    <tr>\n",
              "      <th>2008-02-16</th>\n",
              "      <td>5.72</td>\n",
              "      <td>10.1</td>\n",
              "      <td>212.687</td>\n",
              "      <td>193000.0</td>\n",
              "      <td>206885.853266</td>\n",
              "      <td>90743.674978</td>\n",
              "      <td>97272.448841</td>\n",
              "      <td>91014.739229</td>\n",
              "      <td>1</td>\n",
              "      <td>1.005272</td>\n",
              "      <td>1.000000</td>\n",
              "      <td>1.009662</td>\n",
              "      <td>0.999195</td>\n",
              "    </tr>\n",
              "    <tr>\n",
              "      <th>2008-02-23</th>\n",
              "      <td>6.04</td>\n",
              "      <td>10.1</td>\n",
              "      <td>212.687</td>\n",
              "      <td>189900.0</td>\n",
              "      <td>206885.853266</td>\n",
              "      <td>89286.134084</td>\n",
              "      <td>97272.448841</td>\n",
              "      <td>90610.014498</td>\n",
              "      <td>1</td>\n",
              "      <td>1.045435</td>\n",
              "      <td>1.000000</td>\n",
              "      <td>0.995075</td>\n",
              "      <td>0.999396</td>\n",
              "    </tr>\n",
              "    <tr>\n",
              "      <th>2008-03-01</th>\n",
              "      <td>6.24</td>\n",
              "      <td>10.1</td>\n",
              "      <td>212.687</td>\n",
              "      <td>194900.0</td>\n",
              "      <td>205459.521952</td>\n",
              "      <td>91637.006493</td>\n",
              "      <td>96601.824254</td>\n",
              "      <td>92933.348203</td>\n",
              "      <td>1</td>\n",
              "      <td>1.063032</td>\n",
              "      <td>1.000000</td>\n",
              "      <td>1.016948</td>\n",
              "      <td>0.993996</td>\n",
              "    </tr>\n",
              "    <tr>\n",
              "      <th>...</th>\n",
              "      <td>...</td>\n",
              "      <td>...</td>\n",
              "      <td>...</td>\n",
              "      <td>...</td>\n",
              "      <td>...</td>\n",
              "      <td>...</td>\n",
              "      <td>...</td>\n",
              "      <td>...</td>\n",
              "      <td>...</td>\n",
              "      <td>...</td>\n",
              "      <td>...</td>\n",
              "      <td>...</td>\n",
              "      <td>...</td>\n",
              "    </tr>\n",
              "    <tr>\n",
              "      <th>2022-03-12</th>\n",
              "      <td>3.85</td>\n",
              "      <td>5.8</td>\n",
              "      <td>287.472</td>\n",
              "      <td>350000.0</td>\n",
              "      <td>344042.433111</td>\n",
              "      <td>121750.987922</td>\n",
              "      <td>119678.58891</td>\n",
              "      <td>125539.48047</td>\n",
              "      <td>1</td>\n",
              "      <td>1.235955</td>\n",
              "      <td>0.977317</td>\n",
              "      <td>1.022014</td>\n",
              "      <td>1.050166</td>\n",
              "    </tr>\n",
              "    <tr>\n",
              "      <th>2022-03-19</th>\n",
              "      <td>4.16</td>\n",
              "      <td>5.8</td>\n",
              "      <td>287.472</td>\n",
              "      <td>350000.0</td>\n",
              "      <td>344042.433111</td>\n",
              "      <td>121750.987922</td>\n",
              "      <td>119678.58891</td>\n",
              "      <td>127235.959936</td>\n",
              "      <td>1</td>\n",
              "      <td>1.326140</td>\n",
              "      <td>0.980494</td>\n",
              "      <td>1.020613</td>\n",
              "      <td>1.048017</td>\n",
              "    </tr>\n",
              "    <tr>\n",
              "      <th>2022-03-26</th>\n",
              "      <td>4.42</td>\n",
              "      <td>5.8</td>\n",
              "      <td>287.472</td>\n",
              "      <td>355000.0</td>\n",
              "      <td>344042.433111</td>\n",
              "      <td>123490.28775</td>\n",
              "      <td>119678.58891</td>\n",
              "      <td>125539.48047</td>\n",
              "      <td>1</td>\n",
              "      <td>1.397289</td>\n",
              "      <td>0.983692</td>\n",
              "      <td>1.033486</td>\n",
              "      <td>1.045877</td>\n",
              "    </tr>\n",
              "    <tr>\n",
              "      <th>2022-04-02</th>\n",
              "      <td>4.67</td>\n",
              "      <td>5.8</td>\n",
              "      <td>287.472</td>\n",
              "      <td>360000.0</td>\n",
              "      <td>350515.841789</td>\n",
              "      <td>125229.587577</td>\n",
              "      <td>121930.428629</td>\n",
              "      <td>125539.48047</td>\n",
              "      <td>1</td>\n",
              "      <td>1.462275</td>\n",
              "      <td>0.986911</td>\n",
              "      <td>1.046342</td>\n",
              "      <td>1.062983</td>\n",
              "    </tr>\n",
              "    <tr>\n",
              "      <th>2022-04-09</th>\n",
              "      <td>4.72</td>\n",
              "      <td>5.6</td>\n",
              "      <td>288.611</td>\n",
              "      <td>365000.0</td>\n",
              "      <td>350515.841789</td>\n",
              "      <td>126467.806147</td>\n",
              "      <td>121449.231592</td>\n",
              "      <td>123036.507053</td>\n",
              "      <td>0</td>\n",
              "      <td>1.464264</td>\n",
              "      <td>0.956636</td>\n",
              "      <td>1.054958</td>\n",
              "      <td>1.056322</td>\n",
              "    </tr>\n",
              "  </tbody>\n",
              "</table>\n",
              "<p>722 rows × 13 columns</p>\n",
              "</div>\n",
              "    <div class=\"colab-df-buttons\">\n",
              "\n",
              "  <div class=\"colab-df-container\">\n",
              "    <button class=\"colab-df-convert\" onclick=\"convertToInteractive('df-e68b4782-18a3-4dbb-91e1-e9afc00f1196')\"\n",
              "            title=\"Convert this dataframe to an interactive table.\"\n",
              "            style=\"display:none;\">\n",
              "\n",
              "  <svg xmlns=\"http://www.w3.org/2000/svg\" height=\"24px\" viewBox=\"0 -960 960 960\">\n",
              "    <path d=\"M120-120v-720h720v720H120Zm60-500h600v-160H180v160Zm220 220h160v-160H400v160Zm0 220h160v-160H400v160ZM180-400h160v-160H180v160Zm440 0h160v-160H620v160ZM180-180h160v-160H180v160Zm440 0h160v-160H620v160Z\"/>\n",
              "  </svg>\n",
              "    </button>\n",
              "\n",
              "  <style>\n",
              "    .colab-df-container {\n",
              "      display:flex;\n",
              "      gap: 12px;\n",
              "    }\n",
              "\n",
              "    .colab-df-convert {\n",
              "      background-color: #E8F0FE;\n",
              "      border: none;\n",
              "      border-radius: 50%;\n",
              "      cursor: pointer;\n",
              "      display: none;\n",
              "      fill: #1967D2;\n",
              "      height: 32px;\n",
              "      padding: 0 0 0 0;\n",
              "      width: 32px;\n",
              "    }\n",
              "\n",
              "    .colab-df-convert:hover {\n",
              "      background-color: #E2EBFA;\n",
              "      box-shadow: 0px 1px 2px rgba(60, 64, 67, 0.3), 0px 1px 3px 1px rgba(60, 64, 67, 0.15);\n",
              "      fill: #174EA6;\n",
              "    }\n",
              "\n",
              "    .colab-df-buttons div {\n",
              "      margin-bottom: 4px;\n",
              "    }\n",
              "\n",
              "    [theme=dark] .colab-df-convert {\n",
              "      background-color: #3B4455;\n",
              "      fill: #D2E3FC;\n",
              "    }\n",
              "\n",
              "    [theme=dark] .colab-df-convert:hover {\n",
              "      background-color: #434B5C;\n",
              "      box-shadow: 0px 1px 3px 1px rgba(0, 0, 0, 0.15);\n",
              "      filter: drop-shadow(0px 1px 2px rgba(0, 0, 0, 0.3));\n",
              "      fill: #FFFFFF;\n",
              "    }\n",
              "  </style>\n",
              "\n",
              "    <script>\n",
              "      const buttonEl =\n",
              "        document.querySelector('#df-e68b4782-18a3-4dbb-91e1-e9afc00f1196 button.colab-df-convert');\n",
              "      buttonEl.style.display =\n",
              "        google.colab.kernel.accessAllowed ? 'block' : 'none';\n",
              "\n",
              "      async function convertToInteractive(key) {\n",
              "        const element = document.querySelector('#df-e68b4782-18a3-4dbb-91e1-e9afc00f1196');\n",
              "        const dataTable =\n",
              "          await google.colab.kernel.invokeFunction('convertToInteractive',\n",
              "                                                    [key], {});\n",
              "        if (!dataTable) return;\n",
              "\n",
              "        const docLinkHtml = 'Like what you see? Visit the ' +\n",
              "          '<a target=\"_blank\" href=https://colab.research.google.com/notebooks/data_table.ipynb>data table notebook</a>'\n",
              "          + ' to learn more about interactive tables.';\n",
              "        element.innerHTML = '';\n",
              "        dataTable['output_type'] = 'display_data';\n",
              "        await google.colab.output.renderOutput(dataTable, element);\n",
              "        const docLink = document.createElement('div');\n",
              "        docLink.innerHTML = docLinkHtml;\n",
              "        element.appendChild(docLink);\n",
              "      }\n",
              "    </script>\n",
              "  </div>\n",
              "\n",
              "\n",
              "<div id=\"df-4e35082b-8722-40fe-95f4-7459a9599ad9\">\n",
              "  <button class=\"colab-df-quickchart\" onclick=\"quickchart('df-4e35082b-8722-40fe-95f4-7459a9599ad9')\"\n",
              "            title=\"Suggest charts\"\n",
              "            style=\"display:none;\">\n",
              "\n",
              "<svg xmlns=\"http://www.w3.org/2000/svg\" height=\"24px\"viewBox=\"0 0 24 24\"\n",
              "     width=\"24px\">\n",
              "    <g>\n",
              "        <path d=\"M19 3H5c-1.1 0-2 .9-2 2v14c0 1.1.9 2 2 2h14c1.1 0 2-.9 2-2V5c0-1.1-.9-2-2-2zM9 17H7v-7h2v7zm4 0h-2V7h2v10zm4 0h-2v-4h2v4z\"/>\n",
              "    </g>\n",
              "</svg>\n",
              "  </button>\n",
              "\n",
              "<style>\n",
              "  .colab-df-quickchart {\n",
              "      --bg-color: #E8F0FE;\n",
              "      --fill-color: #1967D2;\n",
              "      --hover-bg-color: #E2EBFA;\n",
              "      --hover-fill-color: #174EA6;\n",
              "      --disabled-fill-color: #AAA;\n",
              "      --disabled-bg-color: #DDD;\n",
              "  }\n",
              "\n",
              "  [theme=dark] .colab-df-quickchart {\n",
              "      --bg-color: #3B4455;\n",
              "      --fill-color: #D2E3FC;\n",
              "      --hover-bg-color: #434B5C;\n",
              "      --hover-fill-color: #FFFFFF;\n",
              "      --disabled-bg-color: #3B4455;\n",
              "      --disabled-fill-color: #666;\n",
              "  }\n",
              "\n",
              "  .colab-df-quickchart {\n",
              "    background-color: var(--bg-color);\n",
              "    border: none;\n",
              "    border-radius: 50%;\n",
              "    cursor: pointer;\n",
              "    display: none;\n",
              "    fill: var(--fill-color);\n",
              "    height: 32px;\n",
              "    padding: 0;\n",
              "    width: 32px;\n",
              "  }\n",
              "\n",
              "  .colab-df-quickchart:hover {\n",
              "    background-color: var(--hover-bg-color);\n",
              "    box-shadow: 0 1px 2px rgba(60, 64, 67, 0.3), 0 1px 3px 1px rgba(60, 64, 67, 0.15);\n",
              "    fill: var(--button-hover-fill-color);\n",
              "  }\n",
              "\n",
              "  .colab-df-quickchart-complete:disabled,\n",
              "  .colab-df-quickchart-complete:disabled:hover {\n",
              "    background-color: var(--disabled-bg-color);\n",
              "    fill: var(--disabled-fill-color);\n",
              "    box-shadow: none;\n",
              "  }\n",
              "\n",
              "  .colab-df-spinner {\n",
              "    border: 2px solid var(--fill-color);\n",
              "    border-color: transparent;\n",
              "    border-bottom-color: var(--fill-color);\n",
              "    animation:\n",
              "      spin 1s steps(1) infinite;\n",
              "  }\n",
              "\n",
              "  @keyframes spin {\n",
              "    0% {\n",
              "      border-color: transparent;\n",
              "      border-bottom-color: var(--fill-color);\n",
              "      border-left-color: var(--fill-color);\n",
              "    }\n",
              "    20% {\n",
              "      border-color: transparent;\n",
              "      border-left-color: var(--fill-color);\n",
              "      border-top-color: var(--fill-color);\n",
              "    }\n",
              "    30% {\n",
              "      border-color: transparent;\n",
              "      border-left-color: var(--fill-color);\n",
              "      border-top-color: var(--fill-color);\n",
              "      border-right-color: var(--fill-color);\n",
              "    }\n",
              "    40% {\n",
              "      border-color: transparent;\n",
              "      border-right-color: var(--fill-color);\n",
              "      border-top-color: var(--fill-color);\n",
              "    }\n",
              "    60% {\n",
              "      border-color: transparent;\n",
              "      border-right-color: var(--fill-color);\n",
              "    }\n",
              "    80% {\n",
              "      border-color: transparent;\n",
              "      border-right-color: var(--fill-color);\n",
              "      border-bottom-color: var(--fill-color);\n",
              "    }\n",
              "    90% {\n",
              "      border-color: transparent;\n",
              "      border-bottom-color: var(--fill-color);\n",
              "    }\n",
              "  }\n",
              "</style>\n",
              "\n",
              "  <script>\n",
              "    async function quickchart(key) {\n",
              "      const quickchartButtonEl =\n",
              "        document.querySelector('#' + key + ' button');\n",
              "      quickchartButtonEl.disabled = true;  // To prevent multiple clicks.\n",
              "      quickchartButtonEl.classList.add('colab-df-spinner');\n",
              "      try {\n",
              "        const charts = await google.colab.kernel.invokeFunction(\n",
              "            'suggestCharts', [key], {});\n",
              "      } catch (error) {\n",
              "        console.error('Error during call to suggestCharts:', error);\n",
              "      }\n",
              "      quickchartButtonEl.classList.remove('colab-df-spinner');\n",
              "      quickchartButtonEl.classList.add('colab-df-quickchart-complete');\n",
              "    }\n",
              "    (() => {\n",
              "      let quickchartButtonEl =\n",
              "        document.querySelector('#df-4e35082b-8722-40fe-95f4-7459a9599ad9 button');\n",
              "      quickchartButtonEl.style.display =\n",
              "        google.colab.kernel.accessAllowed ? 'block' : 'none';\n",
              "    })();\n",
              "  </script>\n",
              "</div>\n",
              "\n",
              "  <div id=\"id_f2863a22-f665-43e5-8d03-06b937c60a49\">\n",
              "    <style>\n",
              "      .colab-df-generate {\n",
              "        background-color: #E8F0FE;\n",
              "        border: none;\n",
              "        border-radius: 50%;\n",
              "        cursor: pointer;\n",
              "        display: none;\n",
              "        fill: #1967D2;\n",
              "        height: 32px;\n",
              "        padding: 0 0 0 0;\n",
              "        width: 32px;\n",
              "      }\n",
              "\n",
              "      .colab-df-generate:hover {\n",
              "        background-color: #E2EBFA;\n",
              "        box-shadow: 0px 1px 2px rgba(60, 64, 67, 0.3), 0px 1px 3px 1px rgba(60, 64, 67, 0.15);\n",
              "        fill: #174EA6;\n",
              "      }\n",
              "\n",
              "      [theme=dark] .colab-df-generate {\n",
              "        background-color: #3B4455;\n",
              "        fill: #D2E3FC;\n",
              "      }\n",
              "\n",
              "      [theme=dark] .colab-df-generate:hover {\n",
              "        background-color: #434B5C;\n",
              "        box-shadow: 0px 1px 3px 1px rgba(0, 0, 0, 0.15);\n",
              "        filter: drop-shadow(0px 1px 2px rgba(0, 0, 0, 0.3));\n",
              "        fill: #FFFFFF;\n",
              "      }\n",
              "    </style>\n",
              "    <button class=\"colab-df-generate\" onclick=\"generateWithVariable('price_data')\"\n",
              "            title=\"Generate code using this dataframe.\"\n",
              "            style=\"display:none;\">\n",
              "\n",
              "  <svg xmlns=\"http://www.w3.org/2000/svg\" height=\"24px\"viewBox=\"0 0 24 24\"\n",
              "       width=\"24px\">\n",
              "    <path d=\"M7,19H8.4L18.45,9,17,7.55,7,17.6ZM5,21V16.75L18.45,3.32a2,2,0,0,1,2.83,0l1.4,1.43a1.91,1.91,0,0,1,.58,1.4,1.91,1.91,0,0,1-.58,1.4L9.25,21ZM18.45,9,17,7.55Zm-12,3A5.31,5.31,0,0,0,4.9,8.1,5.31,5.31,0,0,0,1,6.5,5.31,5.31,0,0,0,4.9,4.9,5.31,5.31,0,0,0,6.5,1,5.31,5.31,0,0,0,8.1,4.9,5.31,5.31,0,0,0,12,6.5,5.46,5.46,0,0,0,6.5,12Z\"/>\n",
              "  </svg>\n",
              "    </button>\n",
              "    <script>\n",
              "      (() => {\n",
              "      const buttonEl =\n",
              "        document.querySelector('#id_f2863a22-f665-43e5-8d03-06b937c60a49 button.colab-df-generate');\n",
              "      buttonEl.style.display =\n",
              "        google.colab.kernel.accessAllowed ? 'block' : 'none';\n",
              "\n",
              "      buttonEl.onclick = () => {\n",
              "        google.colab.notebook.generateWithVariable('price_data');\n",
              "      }\n",
              "      })();\n",
              "    </script>\n",
              "  </div>\n",
              "\n",
              "    </div>\n",
              "  </div>\n"
            ]
          },
          "metadata": {},
          "execution_count": 39
        }
      ]
    },
    {
      "cell_type": "code",
      "source": [
        "accuracy"
      ],
      "metadata": {
        "colab": {
          "base_uri": "https://localhost:8080/"
        },
        "id": "ru3dyIyX4ME2",
        "outputId": "6cf7ba12-5468-4217-876c-4bc2374d9c7c"
      },
      "execution_count": 40,
      "outputs": [
        {
          "output_type": "execute_result",
          "data": {
            "text/plain": [
              "0.5887445887445888"
            ]
          },
          "metadata": {},
          "execution_count": 40
        }
      ]
    },
    {
      "cell_type": "code",
      "source": [
        "pred_match = (preds == price_data[target].iloc[START:])\n",
        "pred_match[pred_match == True] = \"pink\"\n",
        "pred_match[pred_match == False] = \"blue\""
      ],
      "metadata": {
        "id": "KMvFyPg84MHc"
      },
      "execution_count": 41,
      "outputs": []
    },
    {
      "cell_type": "code",
      "source": [
        "import matplotlib.pyplot as plt\n",
        "\n",
        "plot_data = price_data.iloc[START:].copy()\n",
        "\n",
        "plot_data.reset_index().plot.scatter(x=\"index\", y=\"adj_price\", color=pred_match)\n"
      ],
      "metadata": {
        "colab": {
          "base_uri": "https://localhost:8080/",
          "height": 466
        },
        "id": "jv8E6SP-4MKO",
        "outputId": "f5ebcdf8-a916-4dc2-ebff-85d5c5782c7d"
      },
      "execution_count": 42,
      "outputs": [
        {
          "output_type": "execute_result",
          "data": {
            "text/plain": [
              "<Axes: xlabel='index', ylabel='adj_price'>"
            ]
          },
          "metadata": {},
          "execution_count": 42
        },
        {
          "output_type": "display_data",
          "data": {
            "text/plain": [
              "<Figure size 640x480 with 1 Axes>"
            ],
            "image/png": "[encoded data removed]"
          },
          "metadata": {}
        }
      ]
    },
    {
      "cell_type": "code",
      "source": [
        "from sklearn.inspection import permutation_importance\n",
        "\n",
        "rf = RandomForestClassifier(min_samples_split=10, random_state=1)\n",
        "rf.fit(price_data[predictors], price_data[target])\n",
        "\n",
        "result = permutation_importance(rf, price_data[predictors], price_data[target], n_repeats=10, random_state=1)"
      ],
      "metadata": {
        "id": "9oKJWN054cVf"
      },
      "execution_count": 43,
      "outputs": []
    },
    {
      "cell_type": "code",
      "source": [
        "result[\"importances_mean\"]"
      ],
      "metadata": {
        "colab": {
          "base_uri": "https://localhost:8080/"
        },
        "id": "PPxHCzuR4ce1",
        "outputId": "35fa7a17-f352-4f4c-a83d-771cc2ad8d85"
      },
      "execution_count": 44,
      "outputs": [
        {
          "output_type": "execute_result",
          "data": {
            "text/plain": [
              "array([0.17160665, 0.15498615, 0.2699446 , 0.33379501])"
            ]
          },
          "metadata": {},
          "execution_count": 44
        }
      ]
    },
    {
      "cell_type": "code",
      "source": [
        "predictors\n"
      ],
      "metadata": {
        "colab": {
          "base_uri": "https://localhost:8080/"
        },
        "id": "B2OPNpGM4cjo",
        "outputId": "06cb4cbb-a330-4b80-a6c1-084b62d3cb15"
      },
      "execution_count": 45,
      "outputs": [
        {
          "output_type": "execute_result",
          "data": {
            "text/plain": [
              "['interest', 'vacancy', 'adj_price', 'adj_value']"
            ]
          },
          "metadata": {},
          "execution_count": 45
        }
      ]
    }
  ]
}